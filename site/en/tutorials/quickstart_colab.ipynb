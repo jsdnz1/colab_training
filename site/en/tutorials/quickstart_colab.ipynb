{
  "cells": [
    {
      "cell_type": "markdown",
      "metadata": {
        "id": "view-in-github",
        "colab_type": "text"
      },
      "source": [
        "<a href=\"https://colab.research.google.com/github/jsdnz1/colab_training/blob/main/site/en/tutorials/quickstart_colab.ipynb\" target=\"_parent\"><img src=\"https://colab.research.google.com/assets/colab-badge.svg\" alt=\"Open In Colab\"/></a>"
      ]
    },
    {
      "cell_type": "markdown",
      "metadata": {
        "id": "Tce3stUlHN0L"
      },
      "source": [
        "##### Copyright 2024 Google LLC."
      ]
    },
    {
      "cell_type": "code",
      "execution_count": null,
      "metadata": {
        "cellView": "form",
        "id": "tuOe1ymfHZPu"
      },
      "outputs": [],
      "source": [
        "#@title Licensed under the Apache License, Version 2.0 (the \"License\");\n",
        "# you may not use this file except in compliance with the License.\n",
        "# You may obtain a copy of the License at\n",
        "#\n",
        "# https://www.apache.org/licenses/LICENSE-2.0\n",
        "#\n",
        "# Unless required by applicable law or agreed to in writing, software\n",
        "# distributed under the License is distributed on an \"AS IS\" BASIS,\n",
        "# WITHOUT WARRANTIES OR CONDITIONS OF ANY KIND, either express or implied.\n",
        "# See the License for the specific language governing permissions and\n",
        "# limitations under the License."
      ]
    },
    {
      "cell_type": "markdown",
      "metadata": {
        "id": "-QhPWE1lwZHH"
      },
      "source": [
        "# Gemini API Python quickstart"
      ]
    },
    {
      "cell_type": "markdown",
      "metadata": {
        "id": "fa7c47ae6451"
      },
      "source": [
        "<table class=\"tfo-notebook-buttons\" align=\"left\">\n",
        "  <td>\n",
        "    <a target=\"_blank\" href=\"https://ai.google.dev/tutorials/quickstart_colab\"><img src=\"https://ai.google.dev/static/site-assets/images/docs/notebook-site-button.png\" height=\"32\" width=\"32\" />View on Google AI</a>\n",
        "  </td>\n",
        "  <td>\n",
        "    <a target=\"_blank\" href=\"https://colab.research.google.com/github/google/generative-ai-docs/blob/main/site/en/tutorials/quickstart_colab.ipynb\"><img src=\"https://www.tensorflow.org/images/colab_logo_32px.png\" />Run in Google Colab</a>\n",
        "  </td>\n",
        "  <td>\n",
        "    <a target=\"_blank\" href=\"https://github.com/google/generative-ai-docs/blob/main/site/en/tutorials/quickstart_colab.ipynb\"><img src=\"https://www.tensorflow.org/images/GitHub-Mark-32px.png\" />View source on GitHub</a>\n",
        "  </td>\n",
        "</table>"
      ]
    },
    {
      "cell_type": "markdown",
      "metadata": {
        "id": "db29b8d4247e"
      },
      "source": [
        "This tutorial shows you how to get started with the Gemini API using the Python SDK."
      ]
    },
    {
      "cell_type": "markdown",
      "metadata": {
        "id": "NNNg43Ymw54e"
      },
      "source": [
        "## Prerequisites\n",
        "\n",
        "You can run this tutorial in Google Colab, which doesn't require additional environment configuration.\n",
        "\n",
        "Alternatively, to complete this quickstart locally, see the Python guidance in [Get started with the Gemini API](https://ai.google.dev/tutorials/quickstart)."
      ]
    },
    {
      "cell_type": "markdown",
      "metadata": {
        "id": "kHkHARdb1ZID"
      },
      "source": [
        "## Install the SDK\n",
        "\n",
        "The Python SDK for the Gemini API is contained in the [`google-generativeai`](https://pypi.org/project/google-generativeai/) package. Install the dependency using pip:"
      ]
    },
    {
      "cell_type": "code",
      "execution_count": 1,
      "metadata": {
        "id": "J6Pd9SFJ1yVi"
      },
      "outputs": [],
      "source": [
        "!pip install -q -U google-generativeai"
      ]
    },
    {
      "cell_type": "markdown",
      "metadata": {
        "id": "EeMCtmx9ykyx"
      },
      "source": [
        "## Set up your API key\n",
        "\n",
        "To use the Gemini API, you'll need an API key. If you don't already have one, create a key in Google AI Studio.\n",
        "\n",
        "<a class=\"button\" href=\"https://aistudio.google.com/app/apikey\" target=\"_blank\" rel=\"noopener noreferrer\">Get an API key</a>\n",
        "\n",
        "In Colab, add the key to the secrets manager under the \"🔑\" in the left panel. Give it the name `GOOGLE_API_KEY`. Then pass the key to the SDK:"
      ]
    },
    {
      "cell_type": "code",
      "execution_count": 2,
      "metadata": {
        "id": "HTiaTu6O1LRC"
      },
      "outputs": [],
      "source": [
        "# Import the Python SDK\n",
        "import google.generativeai as genai\n",
        "# Used to securely store your API key\n",
        "from google.colab import userdata\n",
        "\n",
        "GOOGLE_API_KEY=userdata.get('GOOGLE_API_KEY')\n",
        "genai.configure(api_key=GOOGLE_API_KEY)"
      ]
    },
    {
      "cell_type": "markdown",
      "metadata": {
        "id": "CZPYk29o2No0"
      },
      "source": [
        "## Initialize the Generative Model\n",
        "\n",
        "Before you can make any API calls, you need to initialize the Generative Model."
      ]
    },
    {
      "cell_type": "code",
      "execution_count": 10,
      "metadata": {
        "id": "s-JqXcDe2hZ_"
      },
      "outputs": [],
      "source": [
        "model = genai.GenerativeModel('models/gemini-2.0-flash')"
      ]
    },
    {
      "cell_type": "markdown",
      "metadata": {
        "id": "nXxypzJH4MUl"
      },
      "source": [
        "## Generate text"
      ]
    },
    {
      "cell_type": "code",
      "source": [
        "listmodels = genai.list_models()\n",
        "for model in listmodels:\n",
        "    print(model.name)\n"
      ],
      "metadata": {
        "collapsed": true,
        "id": "Q28GcQXXyQra",
        "outputId": "6cff8164-0681-4c2f-93be-af0c9704e9f6",
        "colab": {
          "base_uri": "https://localhost:8080/",
          "height": 746
        }
      },
      "execution_count": 9,
      "outputs": [
        {
          "output_type": "stream",
          "name": "stdout",
          "text": [
            "models/chat-bison-001\n",
            "models/text-bison-001\n",
            "models/embedding-gecko-001\n",
            "models/gemini-1.0-pro-vision-latest\n",
            "models/gemini-pro-vision\n",
            "models/gemini-1.5-pro-latest\n",
            "models/gemini-1.5-pro-001\n",
            "models/gemini-1.5-pro-002\n",
            "models/gemini-1.5-pro\n",
            "models/gemini-1.5-flash-latest\n",
            "models/gemini-1.5-flash-001\n",
            "models/gemini-1.5-flash-001-tuning\n",
            "models/gemini-1.5-flash\n",
            "models/gemini-1.5-flash-002\n",
            "models/gemini-1.5-flash-8b\n",
            "models/gemini-1.5-flash-8b-001\n",
            "models/gemini-1.5-flash-8b-latest\n",
            "models/gemini-1.5-flash-8b-exp-0827\n",
            "models/gemini-1.5-flash-8b-exp-0924\n",
            "models/gemini-2.5-pro-exp-03-25\n",
            "models/gemini-2.0-flash-exp\n",
            "models/gemini-2.0-flash\n",
            "models/gemini-2.0-flash-001\n",
            "models/gemini-2.0-flash-exp-image-generation\n",
            "models/gemini-2.0-flash-lite-001\n",
            "models/gemini-2.0-flash-lite\n",
            "models/gemini-2.0-flash-lite-preview-02-05\n",
            "models/gemini-2.0-flash-lite-preview\n",
            "models/gemini-2.0-pro-exp\n",
            "models/gemini-2.0-pro-exp-02-05\n",
            "models/gemini-exp-1206\n",
            "models/gemini-2.0-flash-thinking-exp-01-21\n",
            "models/gemini-2.0-flash-thinking-exp\n",
            "models/gemini-2.0-flash-thinking-exp-1219\n",
            "models/learnlm-1.5-pro-experimental\n",
            "models/gemma-3-27b-it\n",
            "models/embedding-001\n",
            "models/text-embedding-004\n",
            "models/gemini-embedding-exp-03-07\n",
            "models/gemini-embedding-exp\n",
            "models/aqa\n",
            "models/imagen-3.0-generate-002\n"
          ]
        }
      ]
    },
    {
      "cell_type": "code",
      "execution_count": 11,
      "metadata": {
        "id": "j51mcrLD4Y2W",
        "outputId": "7f6368f3-6565-41b6-88a4-864a4f80a5ae",
        "colab": {
          "base_uri": "https://localhost:8080/",
          "height": 731
        }
      },
      "outputs": [
        {
          "output_type": "stream",
          "name": "stdout",
          "text": [
            "Flora found it tucked away in her grandmother’s attic, nestled between a chipped porcelain doll and a stack of yellowed newspapers. It wasn’t much to look at – a scuffed, brown leather suitcase with tarnished brass buckles and a faint aroma of mothballs and forgotten dreams. But something about it hummed, a low, almost imperceptible vibration that resonated in Flora's chest.\n",
            "\n",
            "\"Grandma, what's this?\" she asked, her fingers tracing the worn leather.\n",
            "\n",
            "Her grandmother, a woman whose eyes held the wisdom of a hundred stories, smiled. \"Ah, that. That's a… special suitcase, dear. A wishing suitcase.\"\n",
            "\n",
            "Flora laughed, a playful, disbelieving sound. \"A wishing suitcase? Really, Grandma?\"\n",
            "\n",
            "\"Perhaps,\" her grandmother said, her eyes twinkling. \"But be careful what you wish for, Flora. Wishes have a way of becoming… complicated.\"\n",
            "\n",
            "That night, after her grandmother had gone to bed, Flora crept back to the attic. She opened the suitcase. Inside, it was surprisingly empty. Just plain, dark blue fabric lining the interior. Hesitantly, she whispered her first wish, a small, inconsequential desire: \"I wish I had a perfectly ripe mango.\"\n",
            "\n",
            "The air shimmered, and with a soft thump, a mango materialized in the suitcase. It was perfect. Deep orange skin, fragrant, and yielding to the touch. Flora devoured it, the sweet juice dripping down her chin. It was the best mango she’d ever tasted.\n",
            "\n",
            "The next day, bolder now, she wished for a new set of art supplies – professional-grade watercolors, charcoal pencils, and a thick sketchbook with pristine white pages. They appeared instantly, filling the suitcase with their vibrant colors and promise.\n",
            "\n",
            "Flora, a struggling art student, felt a thrill she hadn't experienced in years. The suitcase was her salvation. She wished for inspiration, and her mind flooded with ideas, vibrant and complex, spilling onto the sketchbook pages. She wished for recognition, and her art began to attract attention, praise, and even sales.\n",
            "\n",
            "But her grandmother's warning echoed in her mind. She noticed the changes. The suitcase, once charmingly worn, now seemed almost menacing, its brass buckles gleamed with an unsettling intensity. And Flora herself was changing. She became consumed with her art, neglecting her friends, her studies, even her grandmother. She became driven by the desire for more, more success, more recognition, more… magic.\n",
            "\n",
            "One day, she wished for a masterpiece, something that would cement her place in art history. The suitcase shuddered, a low, grinding noise that echoed through the attic. When she opened it, she found a painting. It was breathtaking. A swirling vortex of colors, emotions, and raw power that drew the eye and held it captive. It was everything she had ever dreamed of, and more.\n",
            "\n",
            "But when Flora looked at her reflection, she saw that the joy had drained from her eyes. They were hollow and shadowed, reflecting the cold, calculating ambition that now consumed her. The masterpiece had come at a price – her soul.\n",
            "\n",
            "Suddenly, the painting felt heavy, unbearable. She tried to lift it, but her hands trembled. She realized she had made a terrible mistake. She had let the magic consume her, forgetting the simple joys of creation and the importance of connection.\n",
            "\n",
            "Tears welled in her eyes. \"I wish… I wish I had never found this suitcase,\" she choked out, her voice thick with regret.\n",
            "\n",
            "The room went silent. The suitcase glowed with an eerie light. Then, with a final, resounding shudder, it vanished. The painting disappeared, the art supplies crumbled to dust, and the attic returned to its dusty, forgotten state.\n",
            "\n",
            "Flora was left standing alone, empty-handed, her heart aching with loss. She ran downstairs to her grandmother, tears streaming down her face.\n",
            "\n",
            "Her grandmother held her close, stroking her hair. \"The magic is gone, dear,\" she said softly. \"But you still have yourself. And that's the greatest magic of all.\"\n",
            "\n",
            "It took Flora months to rebuild her life. She rediscovered the joy in creating art for the love of it, not for fame or recognition. She apologized to her friends, spent time with her grandmother, and rediscovered the simple beauty in the world around her.\n",
            "\n",
            "One day, while cleaning the attic, she found a small, wooden box tucked away in the same corner where she had found the suitcase. Inside, she found a single, perfect mango seed. She planted it in a pot, and watched as it sprouted, grew, and eventually blossomed into a small tree.\n",
            "\n",
            "It wasn’t magic. It was life. And it was enough. Flora understood then that true magic wasn’t about wishing for things, but about cultivating them, nurturing them, and cherishing the beauty that already existed within and around her. The suitcase was gone, but the lesson remained, etched in her heart, a reminder that the most valuable treasures are not found in attics or suitcases, but within ourselves.\n",
            "\n"
          ]
        }
      ],
      "source": [
        "response = model.generate_content(\"Write a story about a magic suitcase.\")\n",
        "print(response.text)"
      ]
    },
    {
      "cell_type": "code",
      "source": [],
      "metadata": {
        "id": "H4a-CTMBxu5B"
      },
      "execution_count": 11,
      "outputs": []
    },
    {
      "cell_type": "markdown",
      "metadata": {
        "id": "zUUAQS9u4biH"
      },
      "source": [
        "## What's next\n",
        "\n",
        "To learn more about working with the Gemini API, see the [Python tutorial](https://ai.google.dev/tutorials/python_quickstart).\n",
        "\n",
        "If you're new to generative AI models, you might want to look at the\n",
        "[concepts guide](https://ai.google.dev/docs/concepts) and the\n",
        "[Gemini API overview](https://ai.google.dev/docs/gemini_api_overview)."
      ]
    }
  ],
  "metadata": {
    "colab": {
      "name": "quickstart_colab.ipynb",
      "provenance": [],
      "include_colab_link": true
    },
    "kernelspec": {
      "display_name": "Python 3",
      "name": "python3"
    }
  },
  "nbformat": 4,
  "nbformat_minor": 0
}